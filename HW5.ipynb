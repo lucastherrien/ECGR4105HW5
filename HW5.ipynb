{
 "cells": [
  {
   "cell_type": "code",
   "execution_count": null,
   "metadata": {},
   "outputs": [],
   "source": [
    "# ECGR 4105 HW5: Neural Networks\n",
    "# Author: Lucas Therrien\n",
    "# Student ID #801122089\n",
    "# GitHub Link: https://github.com/lucastherrien/ECGR4105HW5"
   ]
  },
  {
   "cell_type": "code",
   "execution_count": null,
   "metadata": {},
   "outputs": [],
   "source": [
    "##_________________________________________##\n",
    "## Setup\n",
    "##_________________________________________##"
   ]
  },
  {
   "cell_type": "code",
   "execution_count": 5,
   "metadata": {},
   "outputs": [],
   "source": [
    "import pandas as pd\n",
    "import numpy as np\n",
    "import matplotlib.pyplot as plt\n",
    "import nbconvert\n",
    "from sklearn.model_selection import train_test_split\n",
    "from sklearn.datasets import load_breast_cancer \n",
    "from sklearn import preprocessing\n",
    "from sklearn.model_selection import KFold\n",
    "from sklearn.model_selection import cross_val_score\n",
    "from sklearn.linear_model import LogisticRegression\n",
    "from sklearn.metrics import confusion_matrix\n",
    "from sklearn.metrics import classification_report\n",
    "from sklearn.naive_bayes import GaussianNB\n",
    "from sklearn.decomposition import PCA\n",
    "from sklearn.svm import SVC, SVR\n",
    "import seaborn as sns\n",
    "from matplotlib.colors import ListedColormap\n",
    "import torch.nn as nn\n",
    "import torch\n",
    "from torch import optim\n",
    "#Suppress all warnings because they annoy me\n",
    "import warnings\n",
    "warnings.filterwarnings(\"ignore\")"
   ]
  },
  {
   "cell_type": "code",
   "execution_count": null,
   "metadata": {},
   "outputs": [],
   "source": [
    "##_________________________________________##\n",
    "## Problem 1\n",
    "##_________________________________________##"
   ]
  },
  {
   "cell_type": "code",
   "execution_count": 90,
   "metadata": {},
   "outputs": [
    {
     "name": "stdout",
     "output_type": "stream",
     "text": [
      "tensor([[3.5700],\n",
      "        [5.5900],\n",
      "        [5.8200],\n",
      "        [8.1900],\n",
      "        [5.6300],\n",
      "        [4.8900],\n",
      "        [3.3900],\n",
      "        [2.1800],\n",
      "        [4.8400],\n",
      "        [6.0400],\n",
      "        [6.8400]])\n"
     ]
    }
   ],
   "source": [
    "# model eq: w2 * t_u ** 2 + w1 * t_u + b\n",
    "t_c = [0.5, 14.0, 15.0, 28.0, 11.0, 8.0, 3.0, -4.0, 6.0, 13.0, 21.0]\n",
    "t_c = torch.tensor(t_c).unsqueeze(1)\n",
    "t_u = [35.7, 55.9, 58.2, 81.9, 56.3, 48.9, 33.9, 21.8, 48.4, 60.4, 68.4]\n",
    "t_u = torch.tensor(t_u).unsqueeze(1)\n",
    "t_un = 0.1*t_u\n",
    "print(t_un)"
   ]
  },
  {
   "cell_type": "code",
   "execution_count": 47,
   "metadata": {},
   "outputs": [],
   "source": [
    "def model_2nd_order(t_u, w1, w2, b):\n",
    "    return w2 * t_u ** 2 + w1 * t_u + b\n",
    "\n",
    "def model_1st_order(t_u, w1, b):\n",
    "    return w1 * t_u + b\n",
    "\n",
    "def loss_fn(t_p, t_c):\n",
    "    squared_diffs = (t_p - t_c)**2\n",
    "    return squared_diffs.mean()\n",
    "\n",
    "def dloss_fn(t_p, t_c):\n",
    "    dsq_diffs = 2 * (t_p - t_c) / t_p.size(0)  # <1>\n",
    "    return dsq_diffs\n",
    "\n",
    "def dmodel_dw2(t_u):\n",
    "    return t_u**2\n",
    "\n",
    "def dmodel_dw1(t_u):\n",
    "    return t_u\n",
    "\n",
    "def grad_fn_2nd_order(t_u, t_c, t_p):\n",
    "    dloss_dtp = dloss_fn(t_p, t_c)\n",
    "    dloss_dw2 = dloss_dtp * dmodel_dw2(t_u)\n",
    "    dloss_dw1 = dloss_dtp * dmodel_dw1(t_u)\n",
    "    dloss_db = dloss_dtp * 1\n",
    "    return torch.stack([dloss_dw2.sum(), dloss_dw1.sum(), dloss_db.sum()])  # <1>\n",
    "\n",
    "def training_loop_2nd_order(n_epochs,params,lr,loss_fn,t_u,t_c):\n",
    "    loss_hist = []\n",
    "    for epoch in range(1, n_epochs+1):\n",
    "        w2, w1, b = params\n",
    "        #t_u_train, t_u_val, t_c_train, t_c_val = train_test_split(t_u, t_c, test_size = 0.2)\n",
    "        t_p = model_2nd_order(t_u,w2=w2,w1=w1,b=b)\n",
    "        loss = loss_fn(t_p,t_c)\n",
    "        grad = grad_fn_2nd_order(t_u, t_c, t_p)\n",
    "        params = params - lr * grad\n",
    "        \n",
    "        if epoch == 1 or epoch % 500 == 0:\n",
    "            #print(f\"Epoch {epoch}\",f\"Training Loss {loss_train}\",f\"Val Loss {loss_val}\")\n",
    "            loss_hist.append(loss)\n",
    "            print(f\"Epoch {epoch}\",f\"Loss {loss}\")\n",
    "            print(f\"Params {params}\", f\"Grad {grad}\")\n",
    "    return loss_hist\n",
    "        \n",
    "\n",
    "def grad_fn_1st_order(t_u, t_c, t_p):\n",
    "    dloss_dtp = dloss_fn(t_p, t_c)\n",
    "    dloss_dw1 = dloss_dtp * dmodel_dw1(t_u)\n",
    "    dloss_db = dloss_dtp * 1\n",
    "    return torch.stack([dloss_dw1.sum(), dloss_db.sum()])  # <1>\n",
    "\n",
    "def training_loop_1st_order(n_epochs,params,lr,loss_fn,t_u,t_c):\n",
    "    loss_hist = []\n",
    "    for epoch in range(1, n_epochs+1):\n",
    "        w1, b = params\n",
    "        #t_u_train, t_u_val, t_c_train, t_c_val = train_test_split(t_u, t_c, test_size = 0.2)\n",
    "        t_p = model_1st_order(t_u,w1=w1,b=b)\n",
    "        loss = loss_fn(t_p,t_c)\n",
    "        grad = grad_fn_1st_order(t_u, t_c, t_p)\n",
    "        params = params - lr * grad\n",
    "        \n",
    "        if epoch == 1 or epoch % 500 == 0:\n",
    "            #print(f\"Epoch {epoch}\",f\"Training Loss {loss_train}\",f\"Val Loss {loss_val}\")\n",
    "            loss_hist.append(loss)\n",
    "            print(f\"Epoch {epoch}\",f\"Loss {loss}\")\n",
    "            print(f\"Params {params}\", f\"Grad {grad}\")\n",
    "    return loss_hist"
   ]
  },
  {
   "cell_type": "code",
   "execution_count": 48,
   "metadata": {},
   "outputs": [
    {
     "name": "stdout",
     "output_type": "stream",
     "text": [
      "Epoch 1 Loss 675.7943725585938\n",
      "Params tensor([ 0.8260,  0.9720, -0.0048]) Grad tensor([1739.5315,  279.6790,   48.1760])\n",
      "Epoch 500 Loss 10.708597183227539\n",
      "Params tensor([ 0.3155,  0.5400, -0.1712]) Grad tensor([-1.0579,  6.3023,  2.8121])\n",
      "Epoch 1000 Loss 8.642083168029785\n",
      "Params tensor([ 0.3641,  0.2507, -0.3015]) Grad tensor([-0.8909,  5.2993,  2.4124])\n",
      "Epoch 1500 Loss 7.1710052490234375\n",
      "Params tensor([ 0.4050,  0.0076, -0.4135]) Grad tensor([-0.7498,  4.4535,  2.0753])\n",
      "Epoch 2000 Loss 6.123476028442383\n",
      "Params tensor([ 0.4395, -0.1967, -0.5099]) Grad tensor([-0.6310,  3.7401,  1.7909])\n",
      "Epoch 2500 Loss 5.377227783203125\n",
      "Params tensor([ 0.4684, -0.3683, -0.5933]) Grad tensor([-0.5307,  3.1385,  1.5510])\n",
      "Epoch 3000 Loss 4.845285892486572\n",
      "Params tensor([ 0.4928, -0.5121, -0.6656]) Grad tensor([-0.4462,  2.6311,  1.3486])\n",
      "Epoch 3500 Loss 4.465786933898926\n",
      "Params tensor([ 0.5133, -0.6326, -0.7286]) Grad tensor([-0.3750,  2.2032,  1.1778])\n",
      "Epoch 4000 Loss 4.194724082946777\n",
      "Params tensor([ 0.5305, -0.7335, -0.7838]) Grad tensor([-0.3147,  1.8423,  1.0337])\n",
      "Epoch 4500 Loss 4.0008015632629395\n",
      "Params tensor([ 0.5449, -0.8178, -0.8324]) Grad tensor([-0.2640,  1.5380,  0.9122])\n",
      "Epoch 5000 Loss 3.8617441654205322\n",
      "Params tensor([ 0.5570, -0.8881, -0.8753]) Grad tensor([-0.2213,  1.2814,  0.8096])\n"
     ]
    },
    {
     "data": {
      "text/plain": [
       "[tensor(675.7944),\n",
       " tensor(10.7086),\n",
       " tensor(8.6421),\n",
       " tensor(7.1710),\n",
       " tensor(6.1235),\n",
       " tensor(5.3772),\n",
       " tensor(4.8453),\n",
       " tensor(4.4658),\n",
       " tensor(4.1947),\n",
       " tensor(4.0008),\n",
       " tensor(3.8617)]"
      ]
     },
     "execution_count": 48,
     "metadata": {},
     "output_type": "execute_result"
    }
   ],
   "source": [
    "# learning rate 0.0001\n",
    "w2 = 1\n",
    "w1 = 1\n",
    "b = 0\n",
    "training_loop_2nd_order(n_epochs=5000,params=torch.tensor([w2,w1,b]),lr=0.0001,loss_fn=loss_fn,t_c=t_c,t_u=t_un)\n"
   ]
  },
  {
   "cell_type": "code",
   "execution_count": 49,
   "metadata": {},
   "outputs": [
    {
     "name": "stdout",
     "output_type": "stream",
     "text": [
      "Epoch 1 Loss 675.7943725585938\n",
      "Params tensor([-0.7395,  0.7203, -0.0482]) Grad tensor([1739.5315,  279.6790,   48.1760])\n",
      "Epoch 500 Loss nan\n",
      "Params tensor([nan, nan, nan]) Grad tensor([nan, nan, nan])\n",
      "Epoch 1000 Loss nan\n",
      "Params tensor([nan, nan, nan]) Grad tensor([nan, nan, nan])\n",
      "Epoch 1500 Loss nan\n",
      "Params tensor([nan, nan, nan]) Grad tensor([nan, nan, nan])\n",
      "Epoch 2000 Loss nan\n",
      "Params tensor([nan, nan, nan]) Grad tensor([nan, nan, nan])\n",
      "Epoch 2500 Loss nan\n",
      "Params tensor([nan, nan, nan]) Grad tensor([nan, nan, nan])\n",
      "Epoch 3000 Loss nan\n",
      "Params tensor([nan, nan, nan]) Grad tensor([nan, nan, nan])\n",
      "Epoch 3500 Loss nan\n",
      "Params tensor([nan, nan, nan]) Grad tensor([nan, nan, nan])\n",
      "Epoch 4000 Loss nan\n",
      "Params tensor([nan, nan, nan]) Grad tensor([nan, nan, nan])\n",
      "Epoch 4500 Loss nan\n",
      "Params tensor([nan, nan, nan]) Grad tensor([nan, nan, nan])\n",
      "Epoch 5000 Loss nan\n",
      "Params tensor([nan, nan, nan]) Grad tensor([nan, nan, nan])\n"
     ]
    },
    {
     "data": {
      "text/plain": [
       "[tensor(675.7944),\n",
       " tensor(nan),\n",
       " tensor(nan),\n",
       " tensor(nan),\n",
       " tensor(nan),\n",
       " tensor(nan),\n",
       " tensor(nan),\n",
       " tensor(nan),\n",
       " tensor(nan),\n",
       " tensor(nan),\n",
       " tensor(nan)]"
      ]
     },
     "execution_count": 49,
     "metadata": {},
     "output_type": "execute_result"
    }
   ],
   "source": [
    "# learning rate 0.001\n",
    "w2 = 1\n",
    "w1 = 1\n",
    "b = 0\n",
    "training_loop_2nd_order(n_epochs=5000,params=torch.tensor([w2,w1,b]),lr=0.001,loss_fn=loss_fn,t_c=t_c,t_u=t_un)\n"
   ]
  },
  {
   "cell_type": "code",
   "execution_count": 50,
   "metadata": {},
   "outputs": [
    {
     "name": "stdout",
     "output_type": "stream",
     "text": [
      "Epoch 1 Loss 675.7943725585938\n",
      "Params tensor([-16.3953,  -1.7968,  -0.4818]) Grad tensor([1739.5315,  279.6790,   48.1760])\n",
      "Epoch 500 Loss nan\n",
      "Params tensor([nan, nan, nan]) Grad tensor([nan, nan, nan])\n",
      "Epoch 1000 Loss nan\n",
      "Params tensor([nan, nan, nan]) Grad tensor([nan, nan, nan])\n",
      "Epoch 1500 Loss nan\n",
      "Params tensor([nan, nan, nan]) Grad tensor([nan, nan, nan])\n",
      "Epoch 2000 Loss nan\n",
      "Params tensor([nan, nan, nan]) Grad tensor([nan, nan, nan])\n",
      "Epoch 2500 Loss nan\n",
      "Params tensor([nan, nan, nan]) Grad tensor([nan, nan, nan])\n",
      "Epoch 3000 Loss nan\n",
      "Params tensor([nan, nan, nan]) Grad tensor([nan, nan, nan])\n",
      "Epoch 3500 Loss nan\n",
      "Params tensor([nan, nan, nan]) Grad tensor([nan, nan, nan])\n",
      "Epoch 4000 Loss nan\n",
      "Params tensor([nan, nan, nan]) Grad tensor([nan, nan, nan])\n",
      "Epoch 4500 Loss nan\n",
      "Params tensor([nan, nan, nan]) Grad tensor([nan, nan, nan])\n",
      "Epoch 5000 Loss nan\n",
      "Params tensor([nan, nan, nan]) Grad tensor([nan, nan, nan])\n"
     ]
    },
    {
     "data": {
      "text/plain": [
       "[tensor(675.7944),\n",
       " tensor(nan),\n",
       " tensor(nan),\n",
       " tensor(nan),\n",
       " tensor(nan),\n",
       " tensor(nan),\n",
       " tensor(nan),\n",
       " tensor(nan),\n",
       " tensor(nan),\n",
       " tensor(nan),\n",
       " tensor(nan)]"
      ]
     },
     "execution_count": 50,
     "metadata": {},
     "output_type": "execute_result"
    }
   ],
   "source": [
    "# learning rate 0.01\n",
    "w2 = 1\n",
    "w1 = 1\n",
    "b = 0\n",
    "training_loop_2nd_order(n_epochs=5000,params=torch.tensor([w2,w1,b]),lr=0.01,loss_fn=loss_fn,t_c=t_c,t_u=t_un)"
   ]
  },
  {
   "cell_type": "code",
   "execution_count": 51,
   "metadata": {},
   "outputs": [
    {
     "name": "stdout",
     "output_type": "stream",
     "text": [
      "Epoch 1 Loss 675.7943725585938\n",
      "Params tensor([-172.9532,  -26.9679,   -4.8176]) Grad tensor([1739.5315,  279.6790,   48.1760])\n",
      "Epoch 500 Loss nan\n",
      "Params tensor([nan, nan, nan]) Grad tensor([nan, nan, nan])\n",
      "Epoch 1000 Loss nan\n",
      "Params tensor([nan, nan, nan]) Grad tensor([nan, nan, nan])\n",
      "Epoch 1500 Loss nan\n",
      "Params tensor([nan, nan, nan]) Grad tensor([nan, nan, nan])\n",
      "Epoch 2000 Loss nan\n",
      "Params tensor([nan, nan, nan]) Grad tensor([nan, nan, nan])\n",
      "Epoch 2500 Loss nan\n",
      "Params tensor([nan, nan, nan]) Grad tensor([nan, nan, nan])\n",
      "Epoch 3000 Loss nan\n",
      "Params tensor([nan, nan, nan]) Grad tensor([nan, nan, nan])\n",
      "Epoch 3500 Loss nan\n",
      "Params tensor([nan, nan, nan]) Grad tensor([nan, nan, nan])\n",
      "Epoch 4000 Loss nan\n",
      "Params tensor([nan, nan, nan]) Grad tensor([nan, nan, nan])\n",
      "Epoch 4500 Loss nan\n",
      "Params tensor([nan, nan, nan]) Grad tensor([nan, nan, nan])\n",
      "Epoch 5000 Loss nan\n",
      "Params tensor([nan, nan, nan]) Grad tensor([nan, nan, nan])\n"
     ]
    },
    {
     "data": {
      "text/plain": [
       "[tensor(675.7944),\n",
       " tensor(nan),\n",
       " tensor(nan),\n",
       " tensor(nan),\n",
       " tensor(nan),\n",
       " tensor(nan),\n",
       " tensor(nan),\n",
       " tensor(nan),\n",
       " tensor(nan),\n",
       " tensor(nan),\n",
       " tensor(nan)]"
      ]
     },
     "execution_count": 51,
     "metadata": {},
     "output_type": "execute_result"
    }
   ],
   "source": [
    "# learning rate 0.1\n",
    "w2 = 1\n",
    "w1 = 1\n",
    "b = 0\n",
    "training_loop_2nd_order(n_epochs=5000,params=torch.tensor([w2,w1,b]),lr=0.1,loss_fn=loss_fn,t_c=t_c,t_u=t_un)"
   ]
  },
  {
   "cell_type": "code",
   "execution_count": null,
   "metadata": {},
   "outputs": [],
   "source": [
    "# Given the model with a 0.0001 learning rate is the only functional model, it is clearly the best"
   ]
  },
  {
   "cell_type": "code",
   "execution_count": 162,
   "metadata": {},
   "outputs": [
    {
     "name": "stdout",
     "output_type": "stream",
     "text": [
      "Epoch 1 Loss 675.7943725585938\n",
      "Params tensor([ 0.8260,  0.9720, -0.0048]) Grad tensor([1739.5315,  279.6790,   48.1760])\n",
      "Epoch 500 Loss 10.708597183227539\n",
      "Params tensor([ 0.3155,  0.5400, -0.1712]) Grad tensor([-1.0579,  6.3023,  2.8121])\n",
      "Epoch 1000 Loss 8.642083168029785\n",
      "Params tensor([ 0.3641,  0.2507, -0.3015]) Grad tensor([-0.8909,  5.2993,  2.4124])\n",
      "Epoch 1500 Loss 7.1710052490234375\n",
      "Params tensor([ 0.4050,  0.0076, -0.4135]) Grad tensor([-0.7498,  4.4535,  2.0753])\n",
      "Epoch 2000 Loss 6.123476028442383\n",
      "Params tensor([ 0.4395, -0.1967, -0.5099]) Grad tensor([-0.6310,  3.7401,  1.7909])\n",
      "Epoch 2500 Loss 5.377227783203125\n",
      "Params tensor([ 0.4684, -0.3683, -0.5933]) Grad tensor([-0.5307,  3.1385,  1.5510])\n",
      "Epoch 3000 Loss 4.845285892486572\n",
      "Params tensor([ 0.4928, -0.5121, -0.6656]) Grad tensor([-0.4462,  2.6311,  1.3486])\n",
      "Epoch 3500 Loss 4.465786933898926\n",
      "Params tensor([ 0.5133, -0.6326, -0.7286]) Grad tensor([-0.3750,  2.2032,  1.1778])\n",
      "Epoch 4000 Loss 4.194724082946777\n",
      "Params tensor([ 0.5305, -0.7335, -0.7838]) Grad tensor([-0.3147,  1.8423,  1.0337])\n",
      "Epoch 4500 Loss 4.0008015632629395\n",
      "Params tensor([ 0.5449, -0.8178, -0.8324]) Grad tensor([-0.2640,  1.5380,  0.9122])\n",
      "Epoch 5000 Loss 3.8617441654205322\n",
      "Params tensor([ 0.5570, -0.8881, -0.8753]) Grad tensor([-0.2213,  1.2814,  0.8096])\n",
      "Epoch 1 Loss 80.36434173583984\n",
      "Params tensor([1.0078, 0.0011]) Grad tensor([-77.6140, -10.6400])\n",
      "Epoch 500 Loss 29.505889892578125\n",
      "Params tensor([2.2366, 0.0656]) Grad tensor([-4.2259,  2.2983])\n",
      "Epoch 1000 Loss 28.94377326965332\n",
      "Params tensor([ 2.3204, -0.0712]) Grad tensor([-0.6942,  2.8964])\n",
      "Epoch 1500 Loss 28.505281448364258\n",
      "Params tensor([ 2.3489, -0.2165]) Grad tensor([-0.5213,  2.9014])\n",
      "Epoch 2000 Loss 28.074451446533203\n",
      "Params tensor([ 2.3745, -0.3610]) Grad tensor([-0.5089,  2.8783])\n",
      "Epoch 2500 Loss 27.650876998901367\n",
      "Params tensor([ 2.3999, -0.5043]) Grad tensor([-0.5042,  2.8540])\n",
      "Epoch 3000 Loss 27.23444366455078\n",
      "Params tensor([ 2.4250, -0.6464]) Grad tensor([-0.5002,  2.8299])\n",
      "Epoch 3500 Loss 26.82501983642578\n",
      "Params tensor([ 2.4499, -0.7873]) Grad tensor([-0.4962,  2.8059])\n",
      "Epoch 4000 Loss 26.422496795654297\n",
      "Params tensor([ 2.4745, -0.9270]) Grad tensor([-0.4919,  2.7822])\n",
      "Epoch 4500 Loss 26.02674674987793\n",
      "Params tensor([ 2.4990, -1.0655]) Grad tensor([-0.4875,  2.7587])\n",
      "Epoch 5000 Loss 25.637672424316406\n",
      "Params tensor([ 2.5233, -1.2029]) Grad tensor([-0.4835,  2.7353])\n"
     ]
    },
    {
     "data": {
      "text/plain": [
       "<matplotlib.legend.Legend at 0x163bf06be50>"
      ]
     },
     "execution_count": 162,
     "metadata": {},
     "output_type": "execute_result"
    },
    {
     "data": {
      "image/png": "[encoded data removed]",
      "text/plain": [
       "<Figure size 1000x600 with 1 Axes>"
      ]
     },
     "metadata": {},
     "output_type": "display_data"
    }
   ],
   "source": [
    "# Comparison with linear model\n",
    "w2 = 1\n",
    "w1 = 1\n",
    "b = 0\n",
    "nonLinLoss = training_loop_2nd_order(n_epochs=5000,params=torch.tensor([w2,w1,b]),lr=0.0001,loss_fn=loss_fn,t_c=t_c,t_u=t_un)\n",
    "w1 = 1\n",
    "b = 0\n",
    "linLoss = training_loop_1st_order(n_epochs=5000,params=torch.tensor([w1,b]),lr=0.0001,loss_fn=loss_fn,t_c=t_c,t_u=t_un)\n",
    "plt.plot(range(0, 11), nonLinLoss, color='blue') \n",
    "plt.plot(range(0, 11), linLoss, color='red') \n",
    "plt.rcParams[\"figure.figsize\"] = (10,6) \n",
    "plt.grid() \n",
    "plt.xlabel('Epochs x 500') \n",
    "plt.ylabel('Loss') \n",
    "plt.title('Linear vs Nonlinear loss') \n",
    "plt.legend(['Nonlinear Model','Linear Model'])"
   ]
  },
  {
   "cell_type": "code",
   "execution_count": null,
   "metadata": {},
   "outputs": [],
   "source": [
    "# The nonlinear model converges to a smaller loss value, making it the superior model."
   ]
  },
  {
   "cell_type": "code",
   "execution_count": null,
   "metadata": {},
   "outputs": [],
   "source": [
    "##_________________________________________##\n",
    "## Problem 2\n",
    "##_________________________________________##"
   ]
  },
  {
   "cell_type": "code",
   "execution_count": 202,
   "metadata": {},
   "outputs": [
    {
     "name": "stdout",
     "output_type": "stream",
     "text": [
      "[[7.42e+01 4.00e-02 2.00e-02 3.00e-02 2.00e-02]\n",
      " [8.96e+01 4.00e-02 4.00e-02 4.00e-02 3.00e-02]\n",
      " [9.96e+01 3.00e-02 2.00e-02 2.00e-02 2.00e-02]\n",
      " [7.50e+01 4.00e-02 2.00e-02 2.00e-02 3.00e-02]\n",
      " [7.42e+01 4.00e-02 1.00e-02 2.00e-02 2.00e-02]]\n",
      "[[13.3  ]\n",
      " [12.25 ]\n",
      " [12.25 ]\n",
      " [12.215]\n",
      " [11.41 ]]\n"
     ]
    }
   ],
   "source": [
    "# Input variables, standized and normalized sets\n",
    "hd = pd.read_csv('Housing.csv')\n",
    "x = hd[['area', 'bedrooms', 'bathrooms', 'stories', 'parking']]\n",
    "xn = np.array(x*0.01)\n",
    "print(xn[0:5])\n",
    "y = hd[['price']]\n",
    "yn = np.array(y*.000001)\n",
    "print(yn[0:5])\n",
    "x_train, x_test, y_train, y_test = train_test_split(xn, yn, test_size = 0.2)\n",
    "x_train = torch.from_numpy(x_train)\n",
    "x_train = x_train.unsqueeze(1)\n",
    "x_test = torch.from_numpy(x_test)\n",
    "x_test = x_test.unsqueeze(1)\n",
    "y_train = torch.from_numpy(y_train)\n",
    "y_train = y_train.unsqueeze(1)\n",
    "y_test = torch.from_numpy(y_test)\n",
    "y_test = y_test.unsqueeze(1)\n",
    "#print(y_test)\n",
    "def training_loop(n_epochs, optimizer, model, loss_fn, t_u_train, t_u_val,\n",
    "                  t_c_train, t_c_val):\n",
    "    for epoch in range(1, n_epochs + 1):\n",
    "        t_p_train = model(t_u_train.float())\n",
    "        loss_train = loss_fn(t_p_train, t_c_train.float())\n",
    "        t_p_val = model(t_u_val.float()) \n",
    "        loss_val = loss_fn(t_p_val, t_c_val.float())\n",
    "        #val_acc = torch.sum(t_p_val == t_c_val.float())\n",
    "        #val_acc = val_acc/t_c_val.size(0)\n",
    "        \n",
    "        optimizer.zero_grad()\n",
    "        loss_train.backward() # <2>\n",
    "        optimizer.step()\n",
    "\n",
    "        if epoch == 1 or epoch % 1000 == 0:\n",
    "            print(f\"Epoch {epoch}, Training loss {loss_train.item():.4f},\"\n",
    "                  f\" Validation loss {loss_val.item():.4f}\")#,f\"Validation Accuracy {val_acc.item():.4f}\")\n",
    "            #print(t_p_val)\n",
    "            #print(t_c_val)"
   ]
  },
  {
   "cell_type": "code",
   "execution_count": 60,
   "metadata": {},
   "outputs": [],
   "source": [
    "def loss_fn(t_p, t_c):\n",
    "    squared_diffs = (t_p - t_c)**2\n",
    "    return squared_diffs.mean()"
   ]
  },
  {
   "cell_type": "code",
   "execution_count": 203,
   "metadata": {},
   "outputs": [
    {
     "name": "stdout",
     "output_type": "stream",
     "text": [
      "Epoch 1, Training loss 201.0744, Validation loss 164.1078\n",
      "Epoch 1000, Training loss 3.2903, Validation loss 3.2647\n",
      "Epoch 2000, Training loss 3.2362, Validation loss 3.2297\n",
      "Epoch 3000, Training loss 3.1854, Validation loss 3.1973\n",
      "Epoch 4000, Training loss 3.1375, Validation loss 3.1671\n",
      "Epoch 5000, Training loss 3.0926, Validation loss 3.1392\n"
     ]
    }
   ],
   "source": [
    "linear_model = nn.Linear(5, 1) \n",
    "optimizer = optim.SGD(linear_model.parameters(), lr=0.0001)\n",
    "linear_model\n",
    "training_loop(\n",
    "    n_epochs = 5000, \n",
    "    optimizer = optimizer,\n",
    "    model = linear_model,\n",
    "    loss_fn = loss_fn,\n",
    "    t_u_train = x_train,\n",
    "    t_u_val = x_test, \n",
    "    t_c_train = y_train,\n",
    "    t_c_val = y_test)"
   ]
  },
  {
   "cell_type": "code",
   "execution_count": 204,
   "metadata": {},
   "outputs": [
    {
     "name": "stdout",
     "output_type": "stream",
     "text": [
      "Epoch 1, Training loss 12.0808, Validation loss 13.6972\n",
      "Epoch 1000, Training loss nan, Validation loss nan\n",
      "Epoch 2000, Training loss nan, Validation loss nan\n",
      "Epoch 3000, Training loss nan, Validation loss nan\n",
      "Epoch 4000, Training loss nan, Validation loss nan\n",
      "Epoch 5000, Training loss nan, Validation loss nan\n"
     ]
    }
   ],
   "source": [
    "linear_model = nn.Linear(5, 1) \n",
    "optimizer = optim.SGD(linear_model.parameters(), lr=0.001)\n",
    "\n",
    "training_loop(\n",
    "    n_epochs = 5000, \n",
    "    optimizer = optimizer,\n",
    "    model = linear_model,\n",
    "    loss_fn = loss_fn,\n",
    "    t_u_train = x_train,\n",
    "    t_u_val = x_test, \n",
    "    t_c_train = y_train,\n",
    "    t_c_val = y_test)"
   ]
  },
  {
   "cell_type": "code",
   "execution_count": 205,
   "metadata": {},
   "outputs": [
    {
     "name": "stdout",
     "output_type": "stream",
     "text": [
      "Epoch 1, Training loss 11.2619, Validation loss 7.8242\n",
      "Epoch 1000, Training loss nan, Validation loss nan\n",
      "Epoch 2000, Training loss nan, Validation loss nan\n",
      "Epoch 3000, Training loss nan, Validation loss nan\n",
      "Epoch 4000, Training loss nan, Validation loss nan\n",
      "Epoch 5000, Training loss nan, Validation loss nan\n"
     ]
    }
   ],
   "source": [
    "linear_model = nn.Linear(5, 1) \n",
    "optimizer = optim.SGD(linear_model.parameters(), lr=0.01)\n",
    "\n",
    "training_loop(\n",
    "    n_epochs = 5000, \n",
    "    optimizer = optimizer,\n",
    "    model = linear_model,\n",
    "    loss_fn = loss_fn,\n",
    "    t_u_train = x_train,\n",
    "    t_u_val = x_test, \n",
    "    t_c_train = y_train,\n",
    "    t_c_val = y_test)"
   ]
  },
  {
   "cell_type": "code",
   "execution_count": 206,
   "metadata": {},
   "outputs": [
    {
     "name": "stdout",
     "output_type": "stream",
     "text": [
      "Epoch 1, Training loss 87.3155, Validation loss 85.3025\n",
      "Epoch 1000, Training loss nan, Validation loss nan\n",
      "Epoch 2000, Training loss nan, Validation loss nan\n",
      "Epoch 3000, Training loss nan, Validation loss nan\n",
      "Epoch 4000, Training loss nan, Validation loss nan\n",
      "Epoch 5000, Training loss nan, Validation loss nan\n"
     ]
    }
   ],
   "source": [
    "linear_model = nn.Linear(5, 1) \n",
    "optimizer = optim.SGD(linear_model.parameters(), lr=0.1)\n",
    "\n",
    "training_loop(\n",
    "    n_epochs = 5000, \n",
    "    optimizer = optimizer,\n",
    "    model = linear_model,\n",
    "    loss_fn = loss_fn,\n",
    "    t_u_train = x_train,\n",
    "    t_u_val = x_test, \n",
    "    t_c_train = y_train,\n",
    "    t_c_val = y_test)"
   ]
  },
  {
   "cell_type": "code",
   "execution_count": null,
   "metadata": {},
   "outputs": [],
   "source": [
    "#A learning rate of 0.0001 was the most optimal for this model, as it was the only model not to grossly overfit the data"
   ]
  },
  {
   "cell_type": "code",
   "execution_count": null,
   "metadata": {},
   "outputs": [],
   "source": [
    "##_________________________________________##\n",
    "## Problem 3\n",
    "##_________________________________________##"
   ]
  },
  {
   "cell_type": "code",
   "execution_count": 207,
   "metadata": {},
   "outputs": [
    {
     "name": "stdout",
     "output_type": "stream",
     "text": [
      "<bound method Module.parameters of Sequential(\n",
      "  (hidden_linear): Linear(in_features=5, out_features=8, bias=True)\n",
      "  (hidden_activation): Tanh()\n",
      "  (output_linear): Linear(in_features=8, out_features=5, bias=True)\n",
      ")>\n",
      "Epoch 1, Training loss 30.4283, Validation loss 32.0274\n",
      "Epoch 50, Training loss 4.0300, Validation loss 5.1518\n",
      "Epoch 100, Training loss 3.2306, Validation loss 4.2566\n",
      "Epoch 150, Training loss 3.2870, Validation loss 4.3116\n",
      "Epoch 200, Training loss 3.2865, Validation loss 4.3130\n"
     ]
    }
   ],
   "source": [
    "from collections import OrderedDict\n",
    "\n",
    "def training_loop(n_epochs, optimizer, model, loss_fn, t_u_train, t_u_val,\n",
    "                  t_c_train, t_c_val):\n",
    "    for epoch in range(1, n_epochs + 1):\n",
    "        t_p_train = model(t_u_train.float()) # <1>\n",
    "\n",
    "        loss_train = loss_fn(t_p_train, t_c_train.float())\n",
    "        t_p_val = model(t_u_val.float()) # <1>\n",
    "        loss_val = loss_fn(t_p_val, t_c_val.float())\n",
    "        \n",
    "        optimizer.zero_grad()\n",
    "        loss_train.backward() # <2>\n",
    "        optimizer.step()\n",
    "\n",
    "        if epoch == 1 or epoch % 50 == 0:\n",
    "            print(f\"Epoch {epoch}, Training loss {loss_train.item():.4f},\"\n",
    "                  f\" Validation loss {loss_val.item():.4f}\")\n",
    "\n",
    "seq_model = nn.Sequential(OrderedDict([\n",
    "    ('hidden_linear', nn.Linear(5, 8)),\n",
    "    ('hidden_activation', nn.Tanh()),\n",
    "    ('output_linear', nn.Linear(8, 5))\n",
    "]))\n",
    "\n",
    "print(seq_model.parameters)\n",
    "\n",
    "optimizer = optim.SGD(seq_model.parameters(), lr=0.01) \n",
    "\n",
    "training_loop(\n",
    "    n_epochs = 200, \n",
    "    optimizer = optimizer,\n",
    "    model = seq_model,\n",
    "    loss_fn = nn.MSELoss(),\n",
    "    t_u_train = x_train.float(),\n",
    "    t_u_val = x_test.float(), \n",
    "    t_c_train = y_train.float(),\n",
    "    t_c_val = y_test.float())"
   ]
  },
  {
   "cell_type": "code",
   "execution_count": null,
   "metadata": {},
   "outputs": [],
   "source": [
    "#This neural net was slight less effective than the best linear regression model, \n",
    "#however it did slightly overfit"
   ]
  },
  {
   "cell_type": "code",
   "execution_count": 209,
   "metadata": {},
   "outputs": [
    {
     "name": "stdout",
     "output_type": "stream",
     "text": [
      "<bound method Module.parameters of Sequential(\n",
      "  (hidden_linear): Linear(in_features=5, out_features=8, bias=True)\n",
      "  (hidden_activation): Tanh()\n",
      "  (hidden_linear2): Linear(in_features=8, out_features=8, bias=True)\n",
      "  (hidden_activation2): Tanh()\n",
      "  (output_linear): Linear(in_features=8, out_features=5, bias=True)\n",
      ")>\n",
      "Epoch 1, Training loss 26.2507, Validation loss 27.8016\n",
      "Epoch 50, Training loss 4.8800, Validation loss 6.0444\n",
      "Epoch 100, Training loss 3.3449, Validation loss 4.3984\n",
      "Epoch 150, Training loss 3.2821, Validation loss 4.3137\n",
      "Epoch 200, Training loss 3.2621, Validation loss 4.2836\n"
     ]
    }
   ],
   "source": [
    "seq_model = nn.Sequential(OrderedDict([\n",
    "    ('hidden_linear', nn.Linear(5, 8)),\n",
    "    ('hidden_activation', nn.Tanh()),\n",
    "    ('hidden_linear2', nn.Linear(8, 8)),\n",
    "    ('hidden_activation2', nn.Tanh()),\n",
    "    ('output_linear', nn.Linear(8, 5))\n",
    "]))\n",
    "\n",
    "print(seq_model.parameters)\n",
    "\n",
    "optimizer = optim.SGD(seq_model.parameters(), lr=0.01) \n",
    "\n",
    "training_loop(\n",
    "    n_epochs = 200, \n",
    "    optimizer = optimizer,\n",
    "    model = seq_model,\n",
    "    loss_fn = nn.MSELoss(),\n",
    "    t_u_train = x_train.float(),\n",
    "    t_u_val = x_test.float(), \n",
    "    t_c_train = y_train.float(),\n",
    "    t_c_val = y_test.float())"
   ]
  },
  {
   "cell_type": "code",
   "execution_count": null,
   "metadata": {},
   "outputs": [],
   "source": [
    "# This model seems marginally more effective than the previous without running into apparent overfitting"
   ]
  }
 ],
 "metadata": {
  "kernelspec": {
   "display_name": "Python 3 (ipykernel)",
   "language": "python",
   "name": "python3"
  },
  "language_info": {
   "codemirror_mode": {
    "name": "ipython",
    "version": 3
   },
   "file_extension": ".py",
   "mimetype": "text/x-python",
   "name": "python",
   "nbconvert_exporter": "python",
   "pygments_lexer": "ipython3",
   "version": "3.9.6"
  },
  "vscode": {
   "interpreter": {
    "hash": "3c3fdd1ba6fa6149e0a55b9d95e637df8fd62d3a04e8e673bb353b444f545e4d"
   }
  }
 },
 "nbformat": 4,
 "nbformat_minor": 4
}
